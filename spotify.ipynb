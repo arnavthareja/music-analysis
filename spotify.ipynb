{
 "metadata": {
  "language_info": {
   "codemirror_mode": {
    "name": "ipython",
    "version": 3
   },
   "file_extension": ".py",
   "mimetype": "text/x-python",
   "name": "python",
   "nbconvert_exporter": "python",
   "pygments_lexer": "ipython3",
   "version": "3.8.3-final"
  },
  "orig_nbformat": 2,
  "kernelspec": {
   "name": "python3",
   "display_name": "Python 3"
  }
 },
 "nbformat": 4,
 "nbformat_minor": 2,
 "cells": [
  {
   "cell_type": "code",
   "execution_count": 4,
   "metadata": {},
   "outputs": [],
   "source": [
    "import spotipy\n",
    "from spotipy.oauth2 import SpotifyClientCredentials\n",
    "import json\n",
    "import pandas as pd\n",
    "import requests"
   ]
  },
  {
   "cell_type": "code",
   "execution_count": 5,
   "metadata": {
    "tags": []
   },
   "outputs": [],
   "source": [
    "%load_ext autoreload\n",
    "%autoreload 2"
   ]
  },
  {
   "cell_type": "code",
   "execution_count": 6,
   "metadata": {},
   "outputs": [],
   "source": [
    "sp = spotipy.Spotify(client_credentials_manager=SpotifyClientCredentials())"
   ]
  },
  {
   "cell_type": "code",
   "execution_count": 53,
   "metadata": {
    "tags": []
   },
   "outputs": [
    {
     "output_type": "stream",
     "name": "stdout",
     "text": "[]\n"
    }
   ],
   "source": [
    "result = sp.search(q=\"04boE4u1AupbrGlI62WvoO\")\n",
    "print(result['tracks']['items'])"
   ]
  },
  {
   "cell_type": "code",
   "execution_count": 98,
   "metadata": {
    "tags": []
   },
   "outputs": [
    {
     "output_type": "stream",
     "name": "stdout",
     "text": " Year 2019, iteration 39"
    }
   ],
   "source": [
    "features_list = ['artist', 'name', 'id', 'popularity', 'danceability', 'energy', 'key', 'loudness', 'mode', 'speechiness', 'acousticness', 'instrumentalness', 'liveness', 'valence', 'tempo', 'duration_ms', 'time_signature']\n",
    "metadata_list = features_list[:4]\n",
    "analysis_list = features_list[4:]\n",
    "\n",
    "features = {feature : [] for feature in features_list}\n",
    "metadata = {feature : features[feature] for feature in metadata_list}\n",
    "analysis = {feature : features[feature] for feature in analysis_list}\n",
    "\n",
    "start_year = 2015\n",
    "end_year = 2019\n",
    "search_limit = 50\n",
    "\n",
    "for year in range(start_year, end_year + 1):\n",
    "    for i in range(0, 2000, search_limit):\n",
    "        print(\"\\r\", \"Year {}, iteration {}\".format(year, i // search_limit), end=\"\")\n",
    "        current_tracks = []\n",
    "        try:\n",
    "            results = sp.search(q='year:'+str(year), limit=search_limit, type='track', offset=i)\n",
    "        except (requests.HTTPError, spotipy.SpotifyException):\n",
    "            pass\n",
    "        for j, t in enumerate(results['tracks']['items']):\n",
    "            # Apparently 3 hours of white noise was a popular track in 2016\n",
    "            # There is no sound analysis for this\n",
    "            # We have to exclude the track so we don't get an error\n",
    "            if t['id'] != '04boE4u1AupbrGlI62WvoO':\n",
    "                current_tracks.append(t['id'])\n",
    "                for k, v in metadata.items():\n",
    "                    if k == 'artist':\n",
    "                        v.append(t['artists'][0]['name'])\n",
    "                    else:\n",
    "                        v.append(t[k])\n",
    "        try:\n",
    "            feature_results = sp.audio_features(current_tracks)\n",
    "        except (requests.HTTPError, spotipy.SpotifyException):\n",
    "            pass\n",
    "        for feature in feature_results:\n",
    "            for k, v in analysis.items():\n",
    "                v.append(feature[k])"
   ]
  },
  {
   "cell_type": "code",
   "execution_count": 102,
   "metadata": {
    "tags": []
   },
   "outputs": [
    {
     "output_type": "stream",
     "name": "stdout",
     "text": "(9999, 17)\n"
    },
    {
     "output_type": "execute_result",
     "data": {
      "text/plain": "             artist                        name                      id  \\\n0             BØRNS               Electric Love  2GiJYvgVaD2HtM8GqD9EgQ   \n1  Melanie Martinez                   Play Date  4DpNNXFMMxQEKl7r0ykkWA   \n2       Tame Impala  The Less I Know The Better  6K4t31amVTZDgR3sKmwUJJ   \n3            WILLOW              Wait a Minute!  0y60itmpH0aPKsFiGxmtnh   \n4   Chris Stapleton           Tennessee Whiskey  3fqwjXwUGN6vbzIwvyFMhx   \n\n   popularity  danceability  energy  key  loudness  mode  speechiness  \\\n0          83         0.611   0.797    6    -7.627     0       0.0533   \n1          89         0.680   0.729    5    -5.077     1       0.0475   \n2          85         0.640   0.740    4    -4.083     1       0.0284   \n3          84         0.764   0.705    3    -5.279     0       0.0278   \n4          79         0.392   0.370    9   -10.888     1       0.0298   \n\n   acousticness  instrumentalness  liveness  valence    tempo  duration_ms  \\\n0       0.00543          0.001370    0.2600    0.518  120.041       218107   \n1       0.61200          0.000000    0.2240    0.446  123.970       179867   \n2       0.01150          0.006780    0.1670    0.785  116.879       216320   \n3       0.03710          0.000019    0.0943    0.672  101.003       196520   \n4       0.20500          0.009600    0.0821    0.512   48.718       293293   \n\n   time_signature  \n0               4  \n1               4  \n2               4  \n3               4  \n4               4  ",
      "text/html": "<div>\n<style scoped>\n    .dataframe tbody tr th:only-of-type {\n        vertical-align: middle;\n    }\n\n    .dataframe tbody tr th {\n        vertical-align: top;\n    }\n\n    .dataframe thead th {\n        text-align: right;\n    }\n</style>\n<table border=\"1\" class=\"dataframe\">\n  <thead>\n    <tr style=\"text-align: right;\">\n      <th></th>\n      <th>artist</th>\n      <th>name</th>\n      <th>id</th>\n      <th>popularity</th>\n      <th>danceability</th>\n      <th>energy</th>\n      <th>key</th>\n      <th>loudness</th>\n      <th>mode</th>\n      <th>speechiness</th>\n      <th>acousticness</th>\n      <th>instrumentalness</th>\n      <th>liveness</th>\n      <th>valence</th>\n      <th>tempo</th>\n      <th>duration_ms</th>\n      <th>time_signature</th>\n    </tr>\n  </thead>\n  <tbody>\n    <tr>\n      <th>0</th>\n      <td>BØRNS</td>\n      <td>Electric Love</td>\n      <td>2GiJYvgVaD2HtM8GqD9EgQ</td>\n      <td>83</td>\n      <td>0.611</td>\n      <td>0.797</td>\n      <td>6</td>\n      <td>-7.627</td>\n      <td>0</td>\n      <td>0.0533</td>\n      <td>0.00543</td>\n      <td>0.001370</td>\n      <td>0.2600</td>\n      <td>0.518</td>\n      <td>120.041</td>\n      <td>218107</td>\n      <td>4</td>\n    </tr>\n    <tr>\n      <th>1</th>\n      <td>Melanie Martinez</td>\n      <td>Play Date</td>\n      <td>4DpNNXFMMxQEKl7r0ykkWA</td>\n      <td>89</td>\n      <td>0.680</td>\n      <td>0.729</td>\n      <td>5</td>\n      <td>-5.077</td>\n      <td>1</td>\n      <td>0.0475</td>\n      <td>0.61200</td>\n      <td>0.000000</td>\n      <td>0.2240</td>\n      <td>0.446</td>\n      <td>123.970</td>\n      <td>179867</td>\n      <td>4</td>\n    </tr>\n    <tr>\n      <th>2</th>\n      <td>Tame Impala</td>\n      <td>The Less I Know The Better</td>\n      <td>6K4t31amVTZDgR3sKmwUJJ</td>\n      <td>85</td>\n      <td>0.640</td>\n      <td>0.740</td>\n      <td>4</td>\n      <td>-4.083</td>\n      <td>1</td>\n      <td>0.0284</td>\n      <td>0.01150</td>\n      <td>0.006780</td>\n      <td>0.1670</td>\n      <td>0.785</td>\n      <td>116.879</td>\n      <td>216320</td>\n      <td>4</td>\n    </tr>\n    <tr>\n      <th>3</th>\n      <td>WILLOW</td>\n      <td>Wait a Minute!</td>\n      <td>0y60itmpH0aPKsFiGxmtnh</td>\n      <td>84</td>\n      <td>0.764</td>\n      <td>0.705</td>\n      <td>3</td>\n      <td>-5.279</td>\n      <td>0</td>\n      <td>0.0278</td>\n      <td>0.03710</td>\n      <td>0.000019</td>\n      <td>0.0943</td>\n      <td>0.672</td>\n      <td>101.003</td>\n      <td>196520</td>\n      <td>4</td>\n    </tr>\n    <tr>\n      <th>4</th>\n      <td>Chris Stapleton</td>\n      <td>Tennessee Whiskey</td>\n      <td>3fqwjXwUGN6vbzIwvyFMhx</td>\n      <td>79</td>\n      <td>0.392</td>\n      <td>0.370</td>\n      <td>9</td>\n      <td>-10.888</td>\n      <td>1</td>\n      <td>0.0298</td>\n      <td>0.20500</td>\n      <td>0.009600</td>\n      <td>0.0821</td>\n      <td>0.512</td>\n      <td>48.718</td>\n      <td>293293</td>\n      <td>4</td>\n    </tr>\n  </tbody>\n</table>\n</div>"
     },
     "metadata": {},
     "execution_count": 102
    }
   ],
   "source": [
    "df = pd.DataFrame(features)\n",
    "print(df.shape)\n",
    "df.head()"
   ]
  },
  {
   "cell_type": "code",
   "execution_count": 103,
   "metadata": {
    "tags": []
   },
   "outputs": [
    {
     "output_type": "stream",
     "name": "stdout",
     "text": "48\n"
    }
   ],
   "source": [
    "print(min(features['popularity']))"
   ]
  }
 ]
}