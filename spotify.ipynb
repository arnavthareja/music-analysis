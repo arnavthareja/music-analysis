{
 "metadata": {
  "language_info": {
   "codemirror_mode": {
    "name": "ipython",
    "version": 3
   },
   "file_extension": ".py",
   "mimetype": "text/x-python",
   "name": "python",
   "nbconvert_exporter": "python",
   "pygments_lexer": "ipython3",
   "version": "3.8.3-final"
  },
  "orig_nbformat": 2,
  "kernelspec": {
   "name": "python3",
   "display_name": "Python 3"
  }
 },
 "nbformat": 4,
 "nbformat_minor": 2,
 "cells": [
  {
   "cell_type": "markdown",
   "metadata": {},
   "source": [
    "# Spotify API Data Collection  \n",
    "\n",
    "### In this notebook, we will fetch music data from the Spotify API using the spotipy library  \n",
    "\n",
    "The Spotify API allows us to collect data about music on Spotify, including metadata and music features  \n",
    "Searching for music will give us songs that are currently popular or have recently been popular  \n",
    "It is important to note that searching for old tracks will not give the tracks that were popular at that time, but tracks made at that time that are popular now  \n",
    "To find tracks that were popular in earlier years, it would likely be easier to use Billboard charts for the desired timeframe"
   ]
  },
  {
   "cell_type": "code",
   "execution_count": 1,
   "metadata": {},
   "outputs": [],
   "source": [
    "import spotipy\n",
    "from spotipy.oauth2 import SpotifyClientCredentials\n",
    "import pandas as pd\n",
    "import requests"
   ]
  },
  {
   "cell_type": "markdown",
   "metadata": {},
   "source": [
    "This will create an instance of spotipy with the Spotify Developer Account Credentials  \n",
    "The Spotify Developer ID and Secret are stored in environment variables on the system"
   ]
  },
  {
   "cell_type": "code",
   "execution_count": 2,
   "metadata": {},
   "outputs": [],
   "source": [
    "sp = spotipy.Spotify(client_credentials_manager=SpotifyClientCredentials())"
   ]
  },
  {
   "cell_type": "markdown",
   "metadata": {},
   "source": [
    "## Data Collection\n",
    "\n",
    "We will store the names of features we want to collect in a list and create dictionaries to temporarily hold the data  \n",
    "The metadata and analysis lists and dictionaries are separated to make inserting data easier, as the data is gathered in two separate steps"
   ]
  },
  {
   "cell_type": "code",
   "execution_count": 3,
   "metadata": {},
   "outputs": [],
   "source": [
    "features_list = ['artist', 'name', 'id', 'release_date', 'popularity', 'danceability', 'energy', 'key', 'loudness', 'mode', 'speechiness', 'acousticness', 'instrumentalness', 'liveness', 'valence', 'tempo', 'duration_ms', 'time_signature']\n",
    "metadata_list = features_list[:5]\n",
    "analysis_list = features_list[5:]\n",
    "\n",
    "features = {feature : [] for feature in features_list}\n",
    "metadata = {feature : features[feature] for feature in metadata_list}\n",
    "analysis = {feature : features[feature] for feature in analysis_list}"
   ]
  },
  {
   "cell_type": "markdown",
   "metadata": {},
   "source": [
    "We will be looking at 2000 different songs from 2018 to 2020, as the Spotify API only allows searches to access the first 2000 results  \n",
    "Data is gathered in increments of 50, the maximum allowed by the Spotify API"
   ]
  },
  {
   "cell_type": "code",
   "execution_count": 4,
   "metadata": {
    "tags": []
   },
   "outputs": [
    {
     "output_type": "stream",
     "name": "stdout",
     "text": " iteration 39"
    }
   ],
   "source": [
    "start_year = 2018\n",
    "end_year = 2020\n",
    "search_limit = 50\n",
    "num_tracks = 2000\n",
    "\n",
    "#for year in range(start_year, end_year + 1):\n",
    "for i in range(0, num_tracks, search_limit):\n",
    "    print(\"\\r\", \"iteration {}\".format(i // search_limit), end=\"\")\n",
    "    current_tracks = []\n",
    "    try:\n",
    "        results = sp.search(q='year:{}-{}'.format(start_year, end_year), limit=search_limit, type='track', offset=i)\n",
    "    except (requests.HTTPError, spotipy.SpotifyException):\n",
    "        pass\n",
    "    for j, t in enumerate(results['tracks']['items']):\n",
    "        current_tracks.append(t['id'])\n",
    "        for k, v in metadata.items():\n",
    "            if k == 'artist':\n",
    "                v.append(t['artists'][0]['name'])\n",
    "            elif k == 'release_date':\n",
    "                v.append(t['album'][k])\n",
    "            else:\n",
    "                v.append(t[k])\n",
    "    try:\n",
    "        feature_results = sp.audio_features(current_tracks)\n",
    "    except (requests.HTTPError, spotipy.SpotifyException):\n",
    "        pass\n",
    "    for feature in feature_results:\n",
    "        for k, v in analysis.items():\n",
    "            v.append(feature[k])"
   ]
  },
  {
   "cell_type": "markdown",
   "metadata": {},
   "source": [
    "## Data Storage\n",
    "\n",
    "Once the dictionaries are filled, the data will be moved to a pandas dataframe for more features and easier analysis  \n",
    "The songs are sorted by popularity to see which songs are currently the most popular  \n",
    "\n",
    "Some songs have a popularity of 0, which is a result of Spotify's popularity algorithm likely only taking recent streaming data into account  \n",
    "Old songs with a popularity of 0 may have been popular earlier, but they aren't streamed as much anymore  \n",
    "Some songs are too new to have a popularity value yet, so they also have a popularity of 0  \n",
    "\n",
    "We will filter out songs with popularity 0 and new songs  \n",
    "As of August 10, 2020, a new song is defined as one that was released on or after August 1, 2020"
   ]
  },
  {
   "cell_type": "code",
   "execution_count": 5,
   "metadata": {
    "tags": []
   },
   "outputs": [
    {
     "output_type": "execute_result",
     "data": {
      "text/plain": "            artist                              name                      id  \\\n0           DaBaby      ROCKSTAR (feat. Roddy Ricch)  7ytR5pFWmSjzHJIeQkgog4   \n1       The Weeknd                   Blinding Lights  0VjIjW4GlUZAMYd2vXMi3b   \n2        Jawsh 685  Savage Love (Laxed - Siren Beat)  1xQ6trAsedVPCdbtDAmk0c   \n3     Harry Styles                  Watermelon Sugar  6UelLqGlWMcVH1E5c4H7lY   \n4            Topic                       Breaking Me  3H7ihDc1dqLriiWXwsc2po   \n...            ...                               ...                     ...   \n1899      J Balvin                 Sigo Extrañándote  5Uc9brIj5A76d4TYpLJt94   \n1900      J Balvin                              Rojo  5Gl3YVEjwOOQmLTsA2ajS7   \n1901      J Balvin                            Brillo  614Z2GSe3D7ckYkGGgTZag   \n1902      J Balvin                              Azul  7aQiyjp2K1wWeS7p5mXoOU   \n1903      J Balvin                              Rosa  3EvvkX6FRLHT0VR2gjJ0Wk   \n\n     release_date  popularity  danceability  energy  key  loudness  mode  \\\n0      2020-04-17         100         0.746   0.690   11    -7.956     1   \n1      2020-03-20          99         0.514   0.730    1    -5.934     1   \n2      2020-06-11          97         0.767   0.481    0    -8.520     0   \n3      2019-12-13          96         0.548   0.816    0    -4.209     1   \n4      2019-12-19          95         0.789   0.720    8    -5.652     0   \n...           ...         ...           ...     ...  ...       ...   ...   \n1899   2020-07-31          41         0.872   0.865    9    -4.248     1   \n1900   2020-07-31          40         0.608   0.610   11    -3.862     1   \n1901   2020-07-31          40         0.524   0.384    9   -10.049     0   \n1902   2020-07-31          39         0.842   0.828    6    -2.495     0   \n1903   2020-07-31          39         0.637   0.561    9    -5.686     0   \n\n      speechiness  acousticness  instrumentalness  liveness  valence    tempo  \\\n0          0.1640       0.24700          0.000000    0.1010    0.497   89.977   \n1          0.0598       0.00146          0.000095    0.0897    0.334  171.005   \n2          0.0803       0.23400          0.000000    0.2690    0.761  150.076   \n3          0.0465       0.12200          0.000000    0.3350    0.557   95.390   \n4          0.2180       0.22300          0.000000    0.1290    0.664  122.031   \n...           ...           ...               ...       ...      ...      ...   \n1899       0.2440       0.17400          0.000034    0.1590    0.935   93.035   \n1900       0.1500       0.14100          0.000048    0.0872    0.377  172.305   \n1901       0.3600       0.89000          0.000000    0.0964    0.768  145.947   \n1902       0.0696       0.10100          0.001790    0.0579    0.653   94.019   \n1903       0.2680       0.25700          0.000080    0.3670    0.336  176.025   \n\n      duration_ms  time_signature  \n0          181733               4  \n1          200040               4  \n2          171375               4  \n3          174000               4  \n4          166794               4  \n...           ...             ...  \n1899       202373               4  \n1900       150853               4  \n1901       159573               4  \n1902       206373               4  \n1903       190253               4  \n\n[1904 rows x 18 columns]",
      "text/html": "<div>\n<style scoped>\n    .dataframe tbody tr th:only-of-type {\n        vertical-align: middle;\n    }\n\n    .dataframe tbody tr th {\n        vertical-align: top;\n    }\n\n    .dataframe thead th {\n        text-align: right;\n    }\n</style>\n<table border=\"1\" class=\"dataframe\">\n  <thead>\n    <tr style=\"text-align: right;\">\n      <th></th>\n      <th>artist</th>\n      <th>name</th>\n      <th>id</th>\n      <th>release_date</th>\n      <th>popularity</th>\n      <th>danceability</th>\n      <th>energy</th>\n      <th>key</th>\n      <th>loudness</th>\n      <th>mode</th>\n      <th>speechiness</th>\n      <th>acousticness</th>\n      <th>instrumentalness</th>\n      <th>liveness</th>\n      <th>valence</th>\n      <th>tempo</th>\n      <th>duration_ms</th>\n      <th>time_signature</th>\n    </tr>\n  </thead>\n  <tbody>\n    <tr>\n      <th>0</th>\n      <td>DaBaby</td>\n      <td>ROCKSTAR (feat. Roddy Ricch)</td>\n      <td>7ytR5pFWmSjzHJIeQkgog4</td>\n      <td>2020-04-17</td>\n      <td>100</td>\n      <td>0.746</td>\n      <td>0.690</td>\n      <td>11</td>\n      <td>-7.956</td>\n      <td>1</td>\n      <td>0.1640</td>\n      <td>0.24700</td>\n      <td>0.000000</td>\n      <td>0.1010</td>\n      <td>0.497</td>\n      <td>89.977</td>\n      <td>181733</td>\n      <td>4</td>\n    </tr>\n    <tr>\n      <th>1</th>\n      <td>The Weeknd</td>\n      <td>Blinding Lights</td>\n      <td>0VjIjW4GlUZAMYd2vXMi3b</td>\n      <td>2020-03-20</td>\n      <td>99</td>\n      <td>0.514</td>\n      <td>0.730</td>\n      <td>1</td>\n      <td>-5.934</td>\n      <td>1</td>\n      <td>0.0598</td>\n      <td>0.00146</td>\n      <td>0.000095</td>\n      <td>0.0897</td>\n      <td>0.334</td>\n      <td>171.005</td>\n      <td>200040</td>\n      <td>4</td>\n    </tr>\n    <tr>\n      <th>2</th>\n      <td>Jawsh 685</td>\n      <td>Savage Love (Laxed - Siren Beat)</td>\n      <td>1xQ6trAsedVPCdbtDAmk0c</td>\n      <td>2020-06-11</td>\n      <td>97</td>\n      <td>0.767</td>\n      <td>0.481</td>\n      <td>0</td>\n      <td>-8.520</td>\n      <td>0</td>\n      <td>0.0803</td>\n      <td>0.23400</td>\n      <td>0.000000</td>\n      <td>0.2690</td>\n      <td>0.761</td>\n      <td>150.076</td>\n      <td>171375</td>\n      <td>4</td>\n    </tr>\n    <tr>\n      <th>3</th>\n      <td>Harry Styles</td>\n      <td>Watermelon Sugar</td>\n      <td>6UelLqGlWMcVH1E5c4H7lY</td>\n      <td>2019-12-13</td>\n      <td>96</td>\n      <td>0.548</td>\n      <td>0.816</td>\n      <td>0</td>\n      <td>-4.209</td>\n      <td>1</td>\n      <td>0.0465</td>\n      <td>0.12200</td>\n      <td>0.000000</td>\n      <td>0.3350</td>\n      <td>0.557</td>\n      <td>95.390</td>\n      <td>174000</td>\n      <td>4</td>\n    </tr>\n    <tr>\n      <th>4</th>\n      <td>Topic</td>\n      <td>Breaking Me</td>\n      <td>3H7ihDc1dqLriiWXwsc2po</td>\n      <td>2019-12-19</td>\n      <td>95</td>\n      <td>0.789</td>\n      <td>0.720</td>\n      <td>8</td>\n      <td>-5.652</td>\n      <td>0</td>\n      <td>0.2180</td>\n      <td>0.22300</td>\n      <td>0.000000</td>\n      <td>0.1290</td>\n      <td>0.664</td>\n      <td>122.031</td>\n      <td>166794</td>\n      <td>4</td>\n    </tr>\n    <tr>\n      <th>...</th>\n      <td>...</td>\n      <td>...</td>\n      <td>...</td>\n      <td>...</td>\n      <td>...</td>\n      <td>...</td>\n      <td>...</td>\n      <td>...</td>\n      <td>...</td>\n      <td>...</td>\n      <td>...</td>\n      <td>...</td>\n      <td>...</td>\n      <td>...</td>\n      <td>...</td>\n      <td>...</td>\n      <td>...</td>\n      <td>...</td>\n    </tr>\n    <tr>\n      <th>1899</th>\n      <td>J Balvin</td>\n      <td>Sigo Extrañándote</td>\n      <td>5Uc9brIj5A76d4TYpLJt94</td>\n      <td>2020-07-31</td>\n      <td>41</td>\n      <td>0.872</td>\n      <td>0.865</td>\n      <td>9</td>\n      <td>-4.248</td>\n      <td>1</td>\n      <td>0.2440</td>\n      <td>0.17400</td>\n      <td>0.000034</td>\n      <td>0.1590</td>\n      <td>0.935</td>\n      <td>93.035</td>\n      <td>202373</td>\n      <td>4</td>\n    </tr>\n    <tr>\n      <th>1900</th>\n      <td>J Balvin</td>\n      <td>Rojo</td>\n      <td>5Gl3YVEjwOOQmLTsA2ajS7</td>\n      <td>2020-07-31</td>\n      <td>40</td>\n      <td>0.608</td>\n      <td>0.610</td>\n      <td>11</td>\n      <td>-3.862</td>\n      <td>1</td>\n      <td>0.1500</td>\n      <td>0.14100</td>\n      <td>0.000048</td>\n      <td>0.0872</td>\n      <td>0.377</td>\n      <td>172.305</td>\n      <td>150853</td>\n      <td>4</td>\n    </tr>\n    <tr>\n      <th>1901</th>\n      <td>J Balvin</td>\n      <td>Brillo</td>\n      <td>614Z2GSe3D7ckYkGGgTZag</td>\n      <td>2020-07-31</td>\n      <td>40</td>\n      <td>0.524</td>\n      <td>0.384</td>\n      <td>9</td>\n      <td>-10.049</td>\n      <td>0</td>\n      <td>0.3600</td>\n      <td>0.89000</td>\n      <td>0.000000</td>\n      <td>0.0964</td>\n      <td>0.768</td>\n      <td>145.947</td>\n      <td>159573</td>\n      <td>4</td>\n    </tr>\n    <tr>\n      <th>1902</th>\n      <td>J Balvin</td>\n      <td>Azul</td>\n      <td>7aQiyjp2K1wWeS7p5mXoOU</td>\n      <td>2020-07-31</td>\n      <td>39</td>\n      <td>0.842</td>\n      <td>0.828</td>\n      <td>6</td>\n      <td>-2.495</td>\n      <td>0</td>\n      <td>0.0696</td>\n      <td>0.10100</td>\n      <td>0.001790</td>\n      <td>0.0579</td>\n      <td>0.653</td>\n      <td>94.019</td>\n      <td>206373</td>\n      <td>4</td>\n    </tr>\n    <tr>\n      <th>1903</th>\n      <td>J Balvin</td>\n      <td>Rosa</td>\n      <td>3EvvkX6FRLHT0VR2gjJ0Wk</td>\n      <td>2020-07-31</td>\n      <td>39</td>\n      <td>0.637</td>\n      <td>0.561</td>\n      <td>9</td>\n      <td>-5.686</td>\n      <td>0</td>\n      <td>0.2680</td>\n      <td>0.25700</td>\n      <td>0.000080</td>\n      <td>0.3670</td>\n      <td>0.336</td>\n      <td>176.025</td>\n      <td>190253</td>\n      <td>4</td>\n    </tr>\n  </tbody>\n</table>\n<p>1904 rows × 18 columns</p>\n</div>"
     },
     "metadata": {},
     "execution_count": 5
    }
   ],
   "source": [
    "df = pd.DataFrame(features)\n",
    "# Filter out songs with popularity 0 and very new songs\n",
    "df = df[(df.popularity != 0) & (df.release_date < '2020-08-01')].sort_values(by='popularity', ascending=False).reset_index(drop=True)\n",
    "df"
   ]
  },
  {
   "cell_type": "markdown",
   "metadata": {},
   "source": [
    "After filtering, the lowest popularity value is 39, so there is a mix of popular and semi-popular songs, but not unpopular songs  \n",
    "This dataset is not ideal to see what differentiates popular songs from unpopular ones, but hopefully it will still tell us about characteristics of popular songs and what makes them more successful than semi-popular songs"
   ]
  },
  {
   "cell_type": "code",
   "execution_count": 6,
   "metadata": {
    "tags": []
   },
   "outputs": [
    {
     "output_type": "stream",
     "name": "stdout",
     "text": "39\n"
    }
   ],
   "source": [
    "print(min(df.popularity))"
   ]
  },
  {
   "cell_type": "markdown",
   "metadata": {},
   "source": [
    "We will store our collected data in a csv file for later use"
   ]
  },
  {
   "cell_type": "code",
   "execution_count": 7,
   "metadata": {},
   "outputs": [
    {
     "output_type": "error",
     "ename": "FileNotFoundError",
     "evalue": "[Errno 2] No such file or directory: 'data\\\\spotify.csv'",
     "traceback": [
      "\u001b[1;31m---------------------------------------------------------------------------\u001b[0m",
      "\u001b[1;31mFileNotFoundError\u001b[0m                         Traceback (most recent call last)",
      "\u001b[1;32m<ipython-input-7-6c1d15701607>\u001b[0m in \u001b[0;36m<module>\u001b[1;34m\u001b[0m\n\u001b[1;32m----> 1\u001b[1;33m \u001b[0mdf\u001b[0m\u001b[1;33m.\u001b[0m\u001b[0mto_csv\u001b[0m\u001b[1;33m(\u001b[0m\u001b[1;34m'data\\spotify.csv'\u001b[0m\u001b[1;33m,\u001b[0m\u001b[0mindex\u001b[0m\u001b[1;33m=\u001b[0m\u001b[1;32mFalse\u001b[0m\u001b[1;33m)\u001b[0m\u001b[1;33m\u001b[0m\u001b[1;33m\u001b[0m\u001b[0m\n\u001b[0m",
      "\u001b[1;32mC:\\ProgramData\\Anaconda3\\envs\\music\\lib\\site-packages\\pandas\\core\\generic.py\u001b[0m in \u001b[0;36mto_csv\u001b[1;34m(self, path_or_buf, sep, na_rep, float_format, columns, header, index, index_label, mode, encoding, compression, quoting, quotechar, line_terminator, chunksize, date_format, doublequote, escapechar, decimal)\u001b[0m\n\u001b[0;32m   3202\u001b[0m             \u001b[0mdecimal\u001b[0m\u001b[1;33m=\u001b[0m\u001b[0mdecimal\u001b[0m\u001b[1;33m,\u001b[0m\u001b[1;33m\u001b[0m\u001b[1;33m\u001b[0m\u001b[0m\n\u001b[0;32m   3203\u001b[0m         )\n\u001b[1;32m-> 3204\u001b[1;33m         \u001b[0mformatter\u001b[0m\u001b[1;33m.\u001b[0m\u001b[0msave\u001b[0m\u001b[1;33m(\u001b[0m\u001b[1;33m)\u001b[0m\u001b[1;33m\u001b[0m\u001b[1;33m\u001b[0m\u001b[0m\n\u001b[0m\u001b[0;32m   3205\u001b[0m \u001b[1;33m\u001b[0m\u001b[0m\n\u001b[0;32m   3206\u001b[0m         \u001b[1;32mif\u001b[0m \u001b[0mpath_or_buf\u001b[0m \u001b[1;32mis\u001b[0m \u001b[1;32mNone\u001b[0m\u001b[1;33m:\u001b[0m\u001b[1;33m\u001b[0m\u001b[1;33m\u001b[0m\u001b[0m\n",
      "\u001b[1;32mC:\\ProgramData\\Anaconda3\\envs\\music\\lib\\site-packages\\pandas\\io\\formats\\csvs.py\u001b[0m in \u001b[0;36msave\u001b[1;34m(self)\u001b[0m\n\u001b[0;32m    182\u001b[0m             \u001b[0mclose\u001b[0m \u001b[1;33m=\u001b[0m \u001b[1;32mFalse\u001b[0m\u001b[1;33m\u001b[0m\u001b[1;33m\u001b[0m\u001b[0m\n\u001b[0;32m    183\u001b[0m         \u001b[1;32melse\u001b[0m\u001b[1;33m:\u001b[0m\u001b[1;33m\u001b[0m\u001b[1;33m\u001b[0m\u001b[0m\n\u001b[1;32m--> 184\u001b[1;33m             f, handles = get_handle(\n\u001b[0m\u001b[0;32m    185\u001b[0m                 \u001b[0mself\u001b[0m\u001b[1;33m.\u001b[0m\u001b[0mpath_or_buf\u001b[0m\u001b[1;33m,\u001b[0m\u001b[1;33m\u001b[0m\u001b[1;33m\u001b[0m\u001b[0m\n\u001b[0;32m    186\u001b[0m                 \u001b[0mself\u001b[0m\u001b[1;33m.\u001b[0m\u001b[0mmode\u001b[0m\u001b[1;33m,\u001b[0m\u001b[1;33m\u001b[0m\u001b[1;33m\u001b[0m\u001b[0m\n",
      "\u001b[1;32mC:\\ProgramData\\Anaconda3\\envs\\music\\lib\\site-packages\\pandas\\io\\common.py\u001b[0m in \u001b[0;36mget_handle\u001b[1;34m(path_or_buf, mode, encoding, compression, memory_map, is_text)\u001b[0m\n\u001b[0;32m    426\u001b[0m         \u001b[1;32mif\u001b[0m \u001b[0mencoding\u001b[0m\u001b[1;33m:\u001b[0m\u001b[1;33m\u001b[0m\u001b[1;33m\u001b[0m\u001b[0m\n\u001b[0;32m    427\u001b[0m             \u001b[1;31m# Encoding\u001b[0m\u001b[1;33m\u001b[0m\u001b[1;33m\u001b[0m\u001b[1;33m\u001b[0m\u001b[0m\n\u001b[1;32m--> 428\u001b[1;33m             \u001b[0mf\u001b[0m \u001b[1;33m=\u001b[0m \u001b[0mopen\u001b[0m\u001b[1;33m(\u001b[0m\u001b[0mpath_or_buf\u001b[0m\u001b[1;33m,\u001b[0m \u001b[0mmode\u001b[0m\u001b[1;33m,\u001b[0m \u001b[0mencoding\u001b[0m\u001b[1;33m=\u001b[0m\u001b[0mencoding\u001b[0m\u001b[1;33m,\u001b[0m \u001b[0mnewline\u001b[0m\u001b[1;33m=\u001b[0m\u001b[1;34m\"\"\u001b[0m\u001b[1;33m)\u001b[0m\u001b[1;33m\u001b[0m\u001b[1;33m\u001b[0m\u001b[0m\n\u001b[0m\u001b[0;32m    429\u001b[0m         \u001b[1;32melif\u001b[0m \u001b[0mis_text\u001b[0m\u001b[1;33m:\u001b[0m\u001b[1;33m\u001b[0m\u001b[1;33m\u001b[0m\u001b[0m\n\u001b[0;32m    430\u001b[0m             \u001b[1;31m# No explicit encoding\u001b[0m\u001b[1;33m\u001b[0m\u001b[1;33m\u001b[0m\u001b[1;33m\u001b[0m\u001b[0m\n",
      "\u001b[1;31mFileNotFoundError\u001b[0m: [Errno 2] No such file or directory: 'data\\\\spotify.csv'"
     ]
    }
   ],
   "source": [
    "df.to_csv('data\\spotify.csv',index=False)"
   ]
  },
  {
   "cell_type": "markdown",
   "metadata": {},
   "source": [
    "And we're done."
   ]
  }
 ]
}