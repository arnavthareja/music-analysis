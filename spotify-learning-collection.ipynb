{
 "metadata": {
  "language_info": {
   "codemirror_mode": {
    "name": "ipython",
    "version": 3
   },
   "file_extension": ".py",
   "mimetype": "text/x-python",
   "name": "python",
   "nbconvert_exporter": "python",
   "pygments_lexer": "ipython3",
   "version": "3.8.3-final"
  },
  "orig_nbformat": 2,
  "kernelspec": {
   "name": "python3",
   "display_name": "Python 3"
  }
 },
 "nbformat": 4,
 "nbformat_minor": 2,
 "cells": [
  {
   "cell_type": "markdown",
   "metadata": {},
   "source": [
    "# Spotify API Data Collection (for Machine Learning)  \n",
    "\n",
    "### In this notebook, we will fetch music data from the Spotify API using the spotipy library to be used in a machine learning model  \n",
    "\n",
    "The Spotify API allows us to collect data about music on Spotify, including metadata and music features  \n",
    "Searching for music will give us songs that are currently popular or have recently been popular  \n",
    "It is important to note that searching for old tracks will not give the tracks that were popular at that time, but tracks made at that time that are popular now  \n",
    "To find tracks that were popular in earlier years, it would likely be easier to use Billboard charts for the desired timeframe"
   ]
  },
  {
   "cell_type": "code",
   "execution_count": 1,
   "metadata": {},
   "outputs": [],
   "source": [
    "import spotipy\n",
    "from spotipy.oauth2 import SpotifyClientCredentials\n",
    "import pandas as pd\n",
    "import requests"
   ]
  },
  {
   "cell_type": "markdown",
   "metadata": {},
   "source": [
    "This will create an instance of spotipy with the Spotify Developer Account Credentials  \n",
    "The Spotify Developer ID and Secret are stored in environment variables on the system"
   ]
  },
  {
   "cell_type": "code",
   "execution_count": 2,
   "metadata": {},
   "outputs": [],
   "source": [
    "sp = spotipy.Spotify(client_credentials_manager=SpotifyClientCredentials())"
   ]
  },
  {
   "cell_type": "markdown",
   "metadata": {},
   "source": [
    "## Data Collection\n",
    "\n",
    "We will store the names of features we want to collect in a list and create dictionaries to temporarily hold the data  \n",
    "The metadata and analysis lists and dictionaries are separated to make inserting data easier, as the data is gathered in two separate steps  \n",
    "We will be looking at 2000 different songs from each year from 2016 to 2020, as the Spotify API only allows searches to access the first 2000 results  \n",
    "Data is gathered in increments of 50, the maximum allowed by the Spotify API"
   ]
  },
  {
   "cell_type": "code",
   "execution_count": 11,
   "metadata": {
    "tags": []
   },
   "outputs": [
    {
     "output_type": "stream",
     "name": "stdout",
     "text": " year 2020, iteration 40"
    }
   ],
   "source": [
    "features_list = ['artist', 'name', 'id', 'release_date', 'popularity', 'danceability', 'energy', 'key', 'loudness', 'mode', 'speechiness', 'acousticness', 'instrumentalness', 'liveness', 'valence', 'tempo', 'duration_ms', 'time_signature']\n",
    "metadata_list = features_list[:5]\n",
    "analysis_list = features_list[5:]\n",
    "\n",
    "features = {feature : [] for feature in features_list}\n",
    "metadata = {feature : features[feature] for feature in metadata_list}\n",
    "analysis = {feature : features[feature] for feature in analysis_list}\n",
    "\n",
    "start_year = 2014\n",
    "end_year = 2020\n",
    "search_limit = 50\n",
    "num_tracks = 2000\n",
    "\n",
    "for year in range(start_year, end_year + 1):\n",
    "    for i in range(0, num_tracks, search_limit):\n",
    "        print(\"\\r\", \"year {}, iteration {}\".format(year, i // search_limit + 1), end=\"\")\n",
    "        current_tracks = []\n",
    "        try:\n",
    "            results = sp.search(q='year:{}'.format(year), limit=search_limit, type='track', offset=i)\n",
    "        except (requests.HTTPError, spotipy.SpotifyException):\n",
    "            pass\n",
    "        for j, t in enumerate(results['tracks']['items']):\n",
    "            #if t['id'] != '04boE4u1AupbrGlI62WvoO':\n",
    "            current_tracks.append(t['id'])\n",
    "            for k, v in metadata.items():\n",
    "                if k == 'artist':\n",
    "                    v.append(t['artists'][0]['name'])\n",
    "                elif k == 'release_date':\n",
    "                    v.append(t['album'][k])\n",
    "                else:\n",
    "                    v.append(t[k])\n",
    "        try:\n",
    "            feature_results = sp.audio_features(current_tracks)\n",
    "        except (requests.HTTPError, spotipy.SpotifyException):\n",
    "            pass\n",
    "        for feature in feature_results:\n",
    "            for k, v in analysis.items():\n",
    "                try:\n",
    "                    v.append(feature[k])\n",
    "                except TypeError:\n",
    "                    v.append(-1)"
   ]
  },
  {
   "cell_type": "markdown",
   "metadata": {},
   "source": [
    "## Data Storage\n",
    "\n",
    "Once the dictionaries are filled, the data will be moved to a pandas dataframe for more features and easier analysis  \n",
    "The songs are sorted by popularity to see which songs are currently the most popular  \n",
    "\n",
    "Some songs have a popularity of 0, which is a result of Spotify's popularity algorithm likely only taking recent streaming data into account  \n",
    "Old songs with a popularity of 0 may have been popular earlier, but they aren't streamed as much anymore  \n",
    "Some songs are too new to have a popularity value yet, so they also have a popularity of 0  \n",
    "\n",
    "We will filter out songs with popularity 0 and new songs  \n",
    "As of September 29, 2020, a new song is defined as one that was released on or after September 18, 2020"
   ]
  },
  {
   "cell_type": "code",
   "execution_count": 12,
   "metadata": {
    "tags": []
   },
   "outputs": [
    {
     "output_type": "execute_result",
     "data": {
      "text/plain": "                      artist  \\\n0                   24kGoldn   \n1                    Cardi B   \n2                 The Weeknd   \n3                     DaBaby   \n4                        BTS   \n...                      ...   \n11088         Dionne Warwick   \n11089            Seven Lions   \n11090  Death From Above 1979   \n11091             Wade Bowen   \n11092                    Spa   \n\n                                                    name  \\\n0                                 Mood (feat. Iann Dior)   \n1                        WAP (feat. Megan Thee Stallion)   \n2                                        Blinding Lights   \n3                           ROCKSTAR (feat. Roddy Ricch)   \n4                                               Dynamite   \n...                                                  ...   \n11088  That's What Friends Are For (with Elton John, ...   \n11089                                       Worlds Apart   \n11090    Trainwreck 1979 - Moulder Mix with in/out fades   \n11091                            Sun Shines on a Dreamer   \n11092                                  Clean White Noise   \n\n                           id release_date  popularity  danceability   energy  \\\n0      3tjFYV6RSFtuktYl3ZtYcq   2020-07-24         100         0.700  0.72200   \n1      4Oun2ylbjFKMPTiaSbbCih   2020-08-07          99         0.935  0.45400   \n2      0VjIjW4GlUZAMYd2vXMi3b   2020-03-20          97         0.514  0.73000   \n3      7ytR5pFWmSjzHJIeQkgog4   2020-04-17          97         0.746  0.69000   \n4      0t1kP63rueHleOhQkYSXFY   2020-08-28          97         0.746  0.76500   \n...                       ...          ...         ...           ...      ...   \n11088  1cx2NcSnJYdr3kvHWmX7fF   2014-03-03          45         0.683  0.28400   \n11089  4jdnm77ZmM83Td3fjGUkzw   2014-06-03          45         0.415  0.72300   \n11090  06vOVdH94mIEjIgIhHdhdO   2014-09-09          45         0.522  0.93400   \n11091  36cmw1oeo5fkzOMTBMRxY6   2014-10-28          45         0.486  0.66700   \n11092  1Nq9uiBzxv6NPnIoSOCQaM   2014-10-08          44         0.000  0.00002   \n\n       key  loudness  mode  speechiness  acousticness  instrumentalness  \\\n0        7    -3.558     0       0.0369      0.221000          0.000000   \n1        1    -7.509     1       0.3750      0.019400          0.000000   \n2        1    -5.934     1       0.0598      0.001460          0.000095   \n3       11    -7.956     1       0.1640      0.247000          0.000000   \n4        6    -4.410     0       0.0993      0.011200          0.000000   \n...    ...       ...   ...          ...           ...               ...   \n11088    0   -15.207     0       0.0314      0.333000          0.000000   \n11089    0    -8.013     0       0.0430      0.017300          0.000155   \n11090    5    -5.030     0       0.0617      0.000021          0.003990   \n11091    0    -6.448     1       0.0283      0.160000          0.000016   \n11092    9    -8.327     1       0.0000      0.112000          0.331000   \n\n       liveness  valence    tempo  duration_ms  time_signature  \n0        0.2720    0.756   90.989       140526               4  \n1        0.0824    0.357  133.073       187541               4  \n2        0.0897    0.334  171.005       200040               4  \n3        0.1010    0.497   89.977       181733               4  \n4        0.0936    0.737  114.044       199054               4  \n...         ...      ...      ...          ...             ...  \n11088    0.0608    0.207  120.233       257360               4  \n11089    0.1210    0.209  139.935       376242               4  \n11090    0.2530    0.304  135.052       226693               4  \n11091    0.1240    0.255   94.867       253771               4  \n11092    0.6630    0.000    0.000        72652               0  \n\n[11093 rows x 18 columns]",
      "text/html": "<div>\n<style scoped>\n    .dataframe tbody tr th:only-of-type {\n        vertical-align: middle;\n    }\n\n    .dataframe tbody tr th {\n        vertical-align: top;\n    }\n\n    .dataframe thead th {\n        text-align: right;\n    }\n</style>\n<table border=\"1\" class=\"dataframe\">\n  <thead>\n    <tr style=\"text-align: right;\">\n      <th></th>\n      <th>artist</th>\n      <th>name</th>\n      <th>id</th>\n      <th>release_date</th>\n      <th>popularity</th>\n      <th>danceability</th>\n      <th>energy</th>\n      <th>key</th>\n      <th>loudness</th>\n      <th>mode</th>\n      <th>speechiness</th>\n      <th>acousticness</th>\n      <th>instrumentalness</th>\n      <th>liveness</th>\n      <th>valence</th>\n      <th>tempo</th>\n      <th>duration_ms</th>\n      <th>time_signature</th>\n    </tr>\n  </thead>\n  <tbody>\n    <tr>\n      <th>0</th>\n      <td>24kGoldn</td>\n      <td>Mood (feat. Iann Dior)</td>\n      <td>3tjFYV6RSFtuktYl3ZtYcq</td>\n      <td>2020-07-24</td>\n      <td>100</td>\n      <td>0.700</td>\n      <td>0.72200</td>\n      <td>7</td>\n      <td>-3.558</td>\n      <td>0</td>\n      <td>0.0369</td>\n      <td>0.221000</td>\n      <td>0.000000</td>\n      <td>0.2720</td>\n      <td>0.756</td>\n      <td>90.989</td>\n      <td>140526</td>\n      <td>4</td>\n    </tr>\n    <tr>\n      <th>1</th>\n      <td>Cardi B</td>\n      <td>WAP (feat. Megan Thee Stallion)</td>\n      <td>4Oun2ylbjFKMPTiaSbbCih</td>\n      <td>2020-08-07</td>\n      <td>99</td>\n      <td>0.935</td>\n      <td>0.45400</td>\n      <td>1</td>\n      <td>-7.509</td>\n      <td>1</td>\n      <td>0.3750</td>\n      <td>0.019400</td>\n      <td>0.000000</td>\n      <td>0.0824</td>\n      <td>0.357</td>\n      <td>133.073</td>\n      <td>187541</td>\n      <td>4</td>\n    </tr>\n    <tr>\n      <th>2</th>\n      <td>The Weeknd</td>\n      <td>Blinding Lights</td>\n      <td>0VjIjW4GlUZAMYd2vXMi3b</td>\n      <td>2020-03-20</td>\n      <td>97</td>\n      <td>0.514</td>\n      <td>0.73000</td>\n      <td>1</td>\n      <td>-5.934</td>\n      <td>1</td>\n      <td>0.0598</td>\n      <td>0.001460</td>\n      <td>0.000095</td>\n      <td>0.0897</td>\n      <td>0.334</td>\n      <td>171.005</td>\n      <td>200040</td>\n      <td>4</td>\n    </tr>\n    <tr>\n      <th>3</th>\n      <td>DaBaby</td>\n      <td>ROCKSTAR (feat. Roddy Ricch)</td>\n      <td>7ytR5pFWmSjzHJIeQkgog4</td>\n      <td>2020-04-17</td>\n      <td>97</td>\n      <td>0.746</td>\n      <td>0.69000</td>\n      <td>11</td>\n      <td>-7.956</td>\n      <td>1</td>\n      <td>0.1640</td>\n      <td>0.247000</td>\n      <td>0.000000</td>\n      <td>0.1010</td>\n      <td>0.497</td>\n      <td>89.977</td>\n      <td>181733</td>\n      <td>4</td>\n    </tr>\n    <tr>\n      <th>4</th>\n      <td>BTS</td>\n      <td>Dynamite</td>\n      <td>0t1kP63rueHleOhQkYSXFY</td>\n      <td>2020-08-28</td>\n      <td>97</td>\n      <td>0.746</td>\n      <td>0.76500</td>\n      <td>6</td>\n      <td>-4.410</td>\n      <td>0</td>\n      <td>0.0993</td>\n      <td>0.011200</td>\n      <td>0.000000</td>\n      <td>0.0936</td>\n      <td>0.737</td>\n      <td>114.044</td>\n      <td>199054</td>\n      <td>4</td>\n    </tr>\n    <tr>\n      <th>...</th>\n      <td>...</td>\n      <td>...</td>\n      <td>...</td>\n      <td>...</td>\n      <td>...</td>\n      <td>...</td>\n      <td>...</td>\n      <td>...</td>\n      <td>...</td>\n      <td>...</td>\n      <td>...</td>\n      <td>...</td>\n      <td>...</td>\n      <td>...</td>\n      <td>...</td>\n      <td>...</td>\n      <td>...</td>\n      <td>...</td>\n    </tr>\n    <tr>\n      <th>11088</th>\n      <td>Dionne Warwick</td>\n      <td>That's What Friends Are For (with Elton John, ...</td>\n      <td>1cx2NcSnJYdr3kvHWmX7fF</td>\n      <td>2014-03-03</td>\n      <td>45</td>\n      <td>0.683</td>\n      <td>0.28400</td>\n      <td>0</td>\n      <td>-15.207</td>\n      <td>0</td>\n      <td>0.0314</td>\n      <td>0.333000</td>\n      <td>0.000000</td>\n      <td>0.0608</td>\n      <td>0.207</td>\n      <td>120.233</td>\n      <td>257360</td>\n      <td>4</td>\n    </tr>\n    <tr>\n      <th>11089</th>\n      <td>Seven Lions</td>\n      <td>Worlds Apart</td>\n      <td>4jdnm77ZmM83Td3fjGUkzw</td>\n      <td>2014-06-03</td>\n      <td>45</td>\n      <td>0.415</td>\n      <td>0.72300</td>\n      <td>0</td>\n      <td>-8.013</td>\n      <td>0</td>\n      <td>0.0430</td>\n      <td>0.017300</td>\n      <td>0.000155</td>\n      <td>0.1210</td>\n      <td>0.209</td>\n      <td>139.935</td>\n      <td>376242</td>\n      <td>4</td>\n    </tr>\n    <tr>\n      <th>11090</th>\n      <td>Death From Above 1979</td>\n      <td>Trainwreck 1979 - Moulder Mix with in/out fades</td>\n      <td>06vOVdH94mIEjIgIhHdhdO</td>\n      <td>2014-09-09</td>\n      <td>45</td>\n      <td>0.522</td>\n      <td>0.93400</td>\n      <td>5</td>\n      <td>-5.030</td>\n      <td>0</td>\n      <td>0.0617</td>\n      <td>0.000021</td>\n      <td>0.003990</td>\n      <td>0.2530</td>\n      <td>0.304</td>\n      <td>135.052</td>\n      <td>226693</td>\n      <td>4</td>\n    </tr>\n    <tr>\n      <th>11091</th>\n      <td>Wade Bowen</td>\n      <td>Sun Shines on a Dreamer</td>\n      <td>36cmw1oeo5fkzOMTBMRxY6</td>\n      <td>2014-10-28</td>\n      <td>45</td>\n      <td>0.486</td>\n      <td>0.66700</td>\n      <td>0</td>\n      <td>-6.448</td>\n      <td>1</td>\n      <td>0.0283</td>\n      <td>0.160000</td>\n      <td>0.000016</td>\n      <td>0.1240</td>\n      <td>0.255</td>\n      <td>94.867</td>\n      <td>253771</td>\n      <td>4</td>\n    </tr>\n    <tr>\n      <th>11092</th>\n      <td>Spa</td>\n      <td>Clean White Noise</td>\n      <td>1Nq9uiBzxv6NPnIoSOCQaM</td>\n      <td>2014-10-08</td>\n      <td>44</td>\n      <td>0.000</td>\n      <td>0.00002</td>\n      <td>9</td>\n      <td>-8.327</td>\n      <td>1</td>\n      <td>0.0000</td>\n      <td>0.112000</td>\n      <td>0.331000</td>\n      <td>0.6630</td>\n      <td>0.000</td>\n      <td>0.000</td>\n      <td>72652</td>\n      <td>0</td>\n    </tr>\n  </tbody>\n</table>\n<p>11093 rows × 18 columns</p>\n</div>"
     },
     "metadata": {},
     "execution_count": 12
    }
   ],
   "source": [
    "df = pd.DataFrame(features)\n",
    "# Filter out songs with popularity 0, songs with erroneous data, very new songs, and duplicate songs\n",
    "df = df[(df.popularity != 0) & (df.key >= 0) & (df.release_date < '2020-09-18')].sort_values(by='popularity', ascending=False).drop_duplicates(subset=['artist', 'name']).reset_index(drop=True)\n",
    "df"
   ]
  },
  {
   "cell_type": "markdown",
   "metadata": {},
   "source": [
    "After filtering, the lowest popularity value is around 40, so there is a mix of popular and semi-popular songs, but not unpopular songs  \n",
    "This dataset is not ideal to see what differentiates popular songs from unpopular ones, but hopefully it will still be viable for ML"
   ]
  },
  {
   "cell_type": "code",
   "execution_count": 13,
   "metadata": {
    "tags": []
   },
   "outputs": [
    {
     "output_type": "stream",
     "name": "stdout",
     "text": "44\n"
    }
   ],
   "source": [
    "print(min(df.popularity))"
   ]
  },
  {
   "cell_type": "markdown",
   "metadata": {},
   "source": [
    "We will store our collected data in a csv file for later use"
   ]
  },
  {
   "cell_type": "code",
   "execution_count": 14,
   "metadata": {},
   "outputs": [],
   "source": [
    "df.to_csv('spotify-learning.csv',index=False)"
   ]
  }
 ]
}