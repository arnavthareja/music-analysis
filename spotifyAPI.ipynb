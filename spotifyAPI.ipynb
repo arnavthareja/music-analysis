{
 "metadata": {
  "language_info": {
   "codemirror_mode": {
    "name": "ipython",
    "version": 3
   },
   "file_extension": ".py",
   "mimetype": "text/x-python",
   "name": "python",
   "nbconvert_exporter": "python",
   "pygments_lexer": "ipython3",
   "version": "3.8.3-final"
  },
  "orig_nbformat": 2,
  "kernelspec": {
   "name": "python3",
   "display_name": "Python 3"
  }
 },
 "nbformat": 4,
 "nbformat_minor": 2,
 "cells": [
  {
   "cell_type": "code",
   "execution_count": 54,
   "metadata": {},
   "outputs": [],
   "source": [
    "import spotipy\n",
    "from spotipy.oauth2 import SpotifyClientCredentials\n",
    "import json\n",
    "import pandas as pd\n",
    "import time\n",
    "import requests"
   ]
  },
  {
   "cell_type": "code",
   "execution_count": 29,
   "metadata": {
    "tags": []
   },
   "outputs": [
    {
     "output_type": "stream",
     "name": "stdout",
     "text": "The autoreload extension is already loaded. To reload it, use:\n  %reload_ext autoreload\n"
    }
   ],
   "source": [
    "%load_ext autoreload\n",
    "%autoreload 2"
   ]
  },
  {
   "cell_type": "code",
   "execution_count": 30,
   "metadata": {},
   "outputs": [],
   "source": [
    "sp = spotipy.Spotify(client_credentials_manager=SpotifyClientCredentials())"
   ]
  },
  {
   "cell_type": "code",
   "execution_count": 95,
   "metadata": {
    "tags": []
   },
   "outputs": [],
   "source": [
    "artist = []\n",
    "name = []\n",
    "track_id = []\n",
    "popularity = []\n",
    "danceability = []\n",
    "energy = []\n",
    "key = []\n",
    "loudness = []\n",
    "mode = []\n",
    "speechiness = []\n",
    "acousticness = []\n",
    "instrumentalness = []\n",
    "liveness = []\n",
    "valence = []\n",
    "tempo = []\n",
    "duration_ms = []\n",
    "time_signature = []\n",
    "\n",
    "for i in range(0, 2000, 50):\n",
    "    current_tracks = []\n",
    "    try:\n",
    "        results = sp.search(q='year:2019', limit=50, type='track', offset=i)\n",
    "    except (requests.HTTPError, spotipy.SpotifyException):\n",
    "        pass\n",
    "        #for i in range(50):\n",
    "        #    artist.append(None)\n",
    "        #    name.append(None)\n",
    "        #    track_id.append(None)\n",
    "        #    current_tracks.append(None)\n",
    "        #    popularity.append(None)\n",
    "    for i, t in enumerate(results['tracks']['items']):\n",
    "        artist.append(t['artists'][0]['name'])\n",
    "        name.append(t['name'])\n",
    "        track_id.append(t['id'])\n",
    "        current_tracks.append(t['id'])\n",
    "        popularity.append(t['popularity'])\n",
    "\n",
    "    try:\n",
    "        features = sp.audio_features(current_tracks)\n",
    "    except (requests.HTTPError, spotipy.SpotifyException):\n",
    "        pass\n",
    "        #for i in range(50):\n",
    "        #    danceability.append(None)\n",
    "        #    energy.append(None)\n",
    "        #    key.append(None)\n",
    "        #    loudness.append(None)\n",
    "        #    mode.append(None)\n",
    "        #    speechiness.append(None)\n",
    "        #    acousticness.append(None)\n",
    "        #    instrumentalness.append(None)\n",
    "        #    liveness.append(None)\n",
    "        #    valence.append(None)\n",
    "        #    tempo.append(None)\n",
    "        #    duration_ms.append(None)\n",
    "        #    time_signature.append(feature['time_signature'])\n",
    "    for feature in features:\n",
    "        danceability.append(feature['danceability'])\n",
    "        energy.append(feature['energy'])\n",
    "        key.append(feature['key'])\n",
    "        loudness.append(feature['loudness'])\n",
    "        mode.append(feature['mode'])\n",
    "        speechiness.append(feature['speechiness'])\n",
    "        acousticness.append(feature['acousticness'])\n",
    "        instrumentalness.append(feature['instrumentalness'])\n",
    "        liveness.append(feature['liveness'])\n",
    "        valence.append(feature['valence'])\n",
    "        tempo.append(feature['tempo'])\n",
    "        duration_ms.append(feature['duration_ms'])\n",
    "        time_signature.append(feature['time_signature'])"
   ]
  },
  {
   "cell_type": "code",
   "execution_count": 96,
   "metadata": {
    "tags": []
   },
   "outputs": [
    {
     "output_type": "stream",
     "name": "stdout",
     "text": "(2000, 17)\n"
    },
    {
     "output_type": "execute_result",
     "data": {
      "text/plain": "         artist                 track name  popularity  \\\n1995  Shakewell                      Pemex          61   \n1996        AJR             Birthday Party          57   \n1997   Yo Gotti  Pose (feat. Lil Uzi Vert)          60   \n1998   Brytiago         La Mentira - Remix          69   \n1999   Lil Peep                  Moving On          64   \n\n                    track id  danceability  energy  key  loudness  mode  \\\n1995  3oEwMFQQ8jWpvCtz1cw9Jb         0.796   0.666    1    -5.285     1   \n1996  7hBRNyuEkGR4qj5nTDGTry         0.707   0.462    1    -6.696     1   \n1997  6e9biVAugkOfydEN8OiJpi         0.944   0.613   10    -5.999     0   \n1998  4jBpZsZ9qx3cZhoEfuKElF         0.811   0.695    5    -3.942     0   \n1999  1mo6pWcIXljy3y1Kju5JWG         0.821   0.410    0    -5.587     1   \n\n      speechiness  acousticness  instrumentalness  liveness  valence    tempo  \\\n1995       0.0604       0.01430          0.000002    0.1140    0.261   74.981   \n1996       0.1170       0.07320          0.000000    0.1990    0.547   83.994   \n1997       0.2910       0.00818          0.000000    0.0893    0.328  120.102   \n1998       0.2460       0.39500          0.000000    0.1090    0.510   93.991   \n1999       0.0450       0.01720          0.000000    0.1130    0.197  131.963   \n\n      duration (ms)  time signature  \n1995         156238               4  \n1996         223948               4  \n1997         170156               4  \n1998         388800               4  \n1999         203800               4  ",
      "text/html": "<div>\n<style scoped>\n    .dataframe tbody tr th:only-of-type {\n        vertical-align: middle;\n    }\n\n    .dataframe tbody tr th {\n        vertical-align: top;\n    }\n\n    .dataframe thead th {\n        text-align: right;\n    }\n</style>\n<table border=\"1\" class=\"dataframe\">\n  <thead>\n    <tr style=\"text-align: right;\">\n      <th></th>\n      <th>artist</th>\n      <th>track name</th>\n      <th>popularity</th>\n      <th>track id</th>\n      <th>danceability</th>\n      <th>energy</th>\n      <th>key</th>\n      <th>loudness</th>\n      <th>mode</th>\n      <th>speechiness</th>\n      <th>acousticness</th>\n      <th>instrumentalness</th>\n      <th>liveness</th>\n      <th>valence</th>\n      <th>tempo</th>\n      <th>duration (ms)</th>\n      <th>time signature</th>\n    </tr>\n  </thead>\n  <tbody>\n    <tr>\n      <th>1995</th>\n      <td>Shakewell</td>\n      <td>Pemex</td>\n      <td>61</td>\n      <td>3oEwMFQQ8jWpvCtz1cw9Jb</td>\n      <td>0.796</td>\n      <td>0.666</td>\n      <td>1</td>\n      <td>-5.285</td>\n      <td>1</td>\n      <td>0.0604</td>\n      <td>0.01430</td>\n      <td>0.000002</td>\n      <td>0.1140</td>\n      <td>0.261</td>\n      <td>74.981</td>\n      <td>156238</td>\n      <td>4</td>\n    </tr>\n    <tr>\n      <th>1996</th>\n      <td>AJR</td>\n      <td>Birthday Party</td>\n      <td>57</td>\n      <td>7hBRNyuEkGR4qj5nTDGTry</td>\n      <td>0.707</td>\n      <td>0.462</td>\n      <td>1</td>\n      <td>-6.696</td>\n      <td>1</td>\n      <td>0.1170</td>\n      <td>0.07320</td>\n      <td>0.000000</td>\n      <td>0.1990</td>\n      <td>0.547</td>\n      <td>83.994</td>\n      <td>223948</td>\n      <td>4</td>\n    </tr>\n    <tr>\n      <th>1997</th>\n      <td>Yo Gotti</td>\n      <td>Pose (feat. Lil Uzi Vert)</td>\n      <td>60</td>\n      <td>6e9biVAugkOfydEN8OiJpi</td>\n      <td>0.944</td>\n      <td>0.613</td>\n      <td>10</td>\n      <td>-5.999</td>\n      <td>0</td>\n      <td>0.2910</td>\n      <td>0.00818</td>\n      <td>0.000000</td>\n      <td>0.0893</td>\n      <td>0.328</td>\n      <td>120.102</td>\n      <td>170156</td>\n      <td>4</td>\n    </tr>\n    <tr>\n      <th>1998</th>\n      <td>Brytiago</td>\n      <td>La Mentira - Remix</td>\n      <td>69</td>\n      <td>4jBpZsZ9qx3cZhoEfuKElF</td>\n      <td>0.811</td>\n      <td>0.695</td>\n      <td>5</td>\n      <td>-3.942</td>\n      <td>0</td>\n      <td>0.2460</td>\n      <td>0.39500</td>\n      <td>0.000000</td>\n      <td>0.1090</td>\n      <td>0.510</td>\n      <td>93.991</td>\n      <td>388800</td>\n      <td>4</td>\n    </tr>\n    <tr>\n      <th>1999</th>\n      <td>Lil Peep</td>\n      <td>Moving On</td>\n      <td>64</td>\n      <td>1mo6pWcIXljy3y1Kju5JWG</td>\n      <td>0.821</td>\n      <td>0.410</td>\n      <td>0</td>\n      <td>-5.587</td>\n      <td>1</td>\n      <td>0.0450</td>\n      <td>0.01720</td>\n      <td>0.000000</td>\n      <td>0.1130</td>\n      <td>0.197</td>\n      <td>131.963</td>\n      <td>203800</td>\n      <td>4</td>\n    </tr>\n  </tbody>\n</table>\n</div>"
     },
     "metadata": {},
     "execution_count": 96
    }
   ],
   "source": [
    "df = pd.DataFrame({'artist' : artist, 'track name' : name, 'popularity' : popularity, 'track id' : track_id, 'danceability' : danceability, 'energy' : energy, 'key' : key, 'loudness' : loudness, 'mode' : mode, 'speechiness' : speechiness, 'acousticness' : acousticness, 'instrumentalness' : instrumentalness, 'liveness' : liveness, 'valence' : valence, 'tempo' : tempo, 'duration (ms)' : duration_ms, 'time signature' : time_signature})\n",
    "print(df.shape)\n",
    "df.head()\n",
    "df.tail()"
   ]
  },
  {
   "cell_type": "code",
   "execution_count": 97,
   "metadata": {
    "tags": []
   },
   "outputs": [
    {
     "output_type": "stream",
     "name": "stdout",
     "text": "57\n"
    }
   ],
   "source": [
    "print(min(popularity))"
   ]
  }
 ]
}